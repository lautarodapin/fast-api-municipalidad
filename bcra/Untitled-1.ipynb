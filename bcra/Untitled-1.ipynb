{
 "metadata": {
  "language_info": {
   "codemirror_mode": {
    "name": "ipython",
    "version": 3
   },
   "file_extension": ".py",
   "mimetype": "text/x-python",
   "name": "python",
   "nbconvert_exporter": "python",
   "pygments_lexer": "ipython3",
   "version": "3.8.4"
  },
  "orig_nbformat": 2,
  "kernelspec": {
   "name": "python384jvsc74a57bd0a0f7385a5c1e62c4cf4508ccf5d5e6ab99baf9f0df32f7e9dc8119b2ef5bd2c5",
   "display_name": "Python 3.8.4 64-bit"
  }
 },
 "nbformat": 4,
 "nbformat_minor": 2,
 "cells": [
  {
   "cell_type": "code",
   "execution_count": 1,
   "metadata": {},
   "outputs": [],
   "source": [
    "from httpx import AsyncClient\n",
    "from bs4 import BeautifulSoup\n",
    "import pandas as pd\n",
    "from datetime import datetime\n",
    "import re\n",
    "from schemas import VariableEconomica"
   ]
  },
  {
   "cell_type": "code",
   "execution_count": 2,
   "metadata": {},
   "outputs": [],
   "source": [
    "async with AsyncClient() as client:\n",
    "    response = await client.get(\"http://www.bcra.gov.ar/PublicacionesEstadisticas/Principales_variables.asp\")"
   ]
  },
  {
   "cell_type": "code",
   "execution_count": 3,
   "metadata": {},
   "outputs": [],
   "source": [
    "soup = BeautifulSoup(response.read(), 'html.parser')"
   ]
  },
  {
   "cell_type": "code",
   "execution_count": 4,
   "metadata": {},
   "outputs": [],
   "source": [
    "table = soup.find(\"table\", attrs={\"class\": \"table\"})"
   ]
  },
  {
   "cell_type": "code",
   "execution_count": 5,
   "metadata": {},
   "outputs": [],
   "source": [
    "headers = [\"titulo\", \"fecha\", \"valor\", \"link\", \"serie\"]\n",
    "rows = table.find_all(\"tr\")"
   ]
  },
  {
   "cell_type": "code",
   "execution_count": 6,
   "metadata": {},
   "outputs": [
    {
     "output_type": "stream",
     "name": "stdout",
     "text": [
      "http://www.bcra.gov.ar/PublicacionesEstadisticas/Principales_variables_datos.asp?serie=246&detalle=Reservas Internacionales del BCRA (en millones de dólares - cifras provisorias sujetas a cambio de valuación)\nhttp://www.bcra.gov.ar/PublicacionesEstadisticas/Principales_variables_datos.asp?serie=7927&detalle=Tipo de Cambio Minorista ($ por US$) Comunicación B 9791 - Promedio vendedor\nhttp://www.bcra.gov.ar/PublicacionesEstadisticas/Principales_variables_datos.asp?serie=272&detalle=Tipo de Cambio Mayorista ($ por US$) Comunicación A 3500 - Referencia\nhttp://www.bcra.gov.ar/PublicacionesEstadisticas/Principales_variables_datos.asp?serie=7935&detalle=Tasa de Política Monetaria (en % n.a.)\nhttp://www.bcra.gov.ar/PublicacionesEstadisticas/Principales_variables_datos.asp?serie=7936&detalle=Tasa de Política Monetaria (en % e.a.)\nhttp://www.bcra.gov.ar/PublicacionesEstadisticas/Principales_variables_datos.asp?serie=7934&detalle=Tasa fija de precancelación para depósitos con opción de cancelación anticipada en UVA (en % n.a.)\nhttp://www.bcra.gov.ar/PublicacionesEstadisticas/Principales_variables_datos.asp?serie=7938&detalle=Tasa mínima para plazos fijos de personas humanas hasta $1 millón (en % n.a.)\n"
     ]
    }
   ],
   "source": [
    "table = []\n",
    "for row in rows:\n",
    "    if row.text:\n",
    "        cells = row.find_all(\"td\")\n",
    "        if len(cells) < 3: continue\n",
    "        titulo = cells[0].text.strip().lower()\n",
    "        fecha = datetime.strptime(cells[1].text, \"%d/%m/%Y\")\n",
    "        valor = float(cells[2].text.replace('.', '').replace(',', '.'))\n",
    "        link = f\"http://www.bcra.gov.ar\" + cells[0].find('a').get('href').strip().replace('\\xa0', ' ')\n",
    "        serie = re.compile(r'serie=(\\d{1,6})').search(link).group(1)\n",
    "        print(link)\n",
    "        table.append([titulo, fecha, valor, link, serie])\n",
    "    "
   ]
  },
  {
   "cell_type": "code",
   "execution_count": 7,
   "metadata": {},
   "outputs": [
    {
     "output_type": "execute_result",
     "data": {
      "text/plain": [
       "                                              titulo      fecha     valor  \\\n",
       "0  reservas internacionales del bcra (en millones... 2021-06-02  42066.00   \n",
       "1  tipo de cambio minorista ($ por us$) comunicac... 2021-06-04    100.28   \n",
       "2  tipo de cambio mayorista ($ por us$) comunicac... 2021-06-04     94.86   \n",
       "3             tasa de política monetaria (en % n.a.) 2021-06-04     38.00   \n",
       "4             tasa de política monetaria (en % e.a.) 2021-06-04     45.44   \n",
       "5  tasa fija de precancelación para depósitos con... 2021-06-04     30.50   \n",
       "6  tasa mínima para plazos fijos de personas huma... 2021-06-04     37.00   \n",
       "\n",
       "                                                link serie  \n",
       "0  http://www.bcra.gov.ar/PublicacionesEstadistic...   246  \n",
       "1  http://www.bcra.gov.ar/PublicacionesEstadistic...  7927  \n",
       "2  http://www.bcra.gov.ar/PublicacionesEstadistic...   272  \n",
       "3  http://www.bcra.gov.ar/PublicacionesEstadistic...  7935  \n",
       "4  http://www.bcra.gov.ar/PublicacionesEstadistic...  7936  \n",
       "5  http://www.bcra.gov.ar/PublicacionesEstadistic...  7934  \n",
       "6  http://www.bcra.gov.ar/PublicacionesEstadistic...  7938  "
      ],
      "text/html": "<div>\n<style scoped>\n    .dataframe tbody tr th:only-of-type {\n        vertical-align: middle;\n    }\n\n    .dataframe tbody tr th {\n        vertical-align: top;\n    }\n\n    .dataframe thead th {\n        text-align: right;\n    }\n</style>\n<table border=\"1\" class=\"dataframe\">\n  <thead>\n    <tr style=\"text-align: right;\">\n      <th></th>\n      <th>titulo</th>\n      <th>fecha</th>\n      <th>valor</th>\n      <th>link</th>\n      <th>serie</th>\n    </tr>\n  </thead>\n  <tbody>\n    <tr>\n      <th>0</th>\n      <td>reservas internacionales del bcra (en millones...</td>\n      <td>2021-06-02</td>\n      <td>42066.00</td>\n      <td>http://www.bcra.gov.ar/PublicacionesEstadistic...</td>\n      <td>246</td>\n    </tr>\n    <tr>\n      <th>1</th>\n      <td>tipo de cambio minorista ($ por us$) comunicac...</td>\n      <td>2021-06-04</td>\n      <td>100.28</td>\n      <td>http://www.bcra.gov.ar/PublicacionesEstadistic...</td>\n      <td>7927</td>\n    </tr>\n    <tr>\n      <th>2</th>\n      <td>tipo de cambio mayorista ($ por us$) comunicac...</td>\n      <td>2021-06-04</td>\n      <td>94.86</td>\n      <td>http://www.bcra.gov.ar/PublicacionesEstadistic...</td>\n      <td>272</td>\n    </tr>\n    <tr>\n      <th>3</th>\n      <td>tasa de política monetaria (en % n.a.)</td>\n      <td>2021-06-04</td>\n      <td>38.00</td>\n      <td>http://www.bcra.gov.ar/PublicacionesEstadistic...</td>\n      <td>7935</td>\n    </tr>\n    <tr>\n      <th>4</th>\n      <td>tasa de política monetaria (en % e.a.)</td>\n      <td>2021-06-04</td>\n      <td>45.44</td>\n      <td>http://www.bcra.gov.ar/PublicacionesEstadistic...</td>\n      <td>7936</td>\n    </tr>\n    <tr>\n      <th>5</th>\n      <td>tasa fija de precancelación para depósitos con...</td>\n      <td>2021-06-04</td>\n      <td>30.50</td>\n      <td>http://www.bcra.gov.ar/PublicacionesEstadistic...</td>\n      <td>7934</td>\n    </tr>\n    <tr>\n      <th>6</th>\n      <td>tasa mínima para plazos fijos de personas huma...</td>\n      <td>2021-06-04</td>\n      <td>37.00</td>\n      <td>http://www.bcra.gov.ar/PublicacionesEstadistic...</td>\n      <td>7938</td>\n    </tr>\n  </tbody>\n</table>\n</div>"
     },
     "metadata": {},
     "execution_count": 7
    }
   ],
   "source": [
    "df = pd.DataFrame(table, columns=headers)\n",
    "df"
   ]
  },
  {
   "cell_type": "code",
   "execution_count": 8,
   "metadata": {},
   "outputs": [
    {
     "output_type": "execute_result",
     "data": {
      "text/plain": [
       "'http://www.bcra.gov.ar/PublicacionesEstadisticas/Principales_variables_datos.asp?serie=246&detalle=Reservas Internacionales del BCRA (en millones de dólares - cifras provisorias sujetas a cambio de valuación)'"
      ]
     },
     "metadata": {},
     "execution_count": 8
    }
   ],
   "source": [
    "df.loc[0]['link'].replace('\\xa0', ' ')"
   ]
  },
  {
   "cell_type": "code",
   "execution_count": 9,
   "metadata": {},
   "outputs": [],
   "source": [
    "from schemas import VariableEconomica"
   ]
  },
  {
   "cell_type": "code",
   "execution_count": 10,
   "metadata": {},
   "outputs": [
    {
     "output_type": "execute_result",
     "data": {
      "text/plain": [
       "[VariableEconomica(titulo='reservas internacionales del bcra\\xa0(en millones de dólares - cifras provisorias sujetas a cambio de valuación)', link='http://www.bcra.gov.ar/PublicacionesEstadisticas/Principales_variables_datos.asp?serie=246&detalle=Reservas Internacionales del BCRA (en millones de dólares - cifras provisorias sujetas a cambio de valuación)', fecha=Timestamp('2021-06-02 00:00:00'), valor=42066.0, serie='246'),\n",
       " VariableEconomica(titulo='tipo de cambio minorista ($ por us$) comunicación b 9791 - promedio vendedor', link='http://www.bcra.gov.ar/PublicacionesEstadisticas/Principales_variables_datos.asp?serie=7927&detalle=Tipo de Cambio Minorista ($ por US$) Comunicación B 9791 - Promedio vendedor', fecha=Timestamp('2021-06-04 00:00:00'), valor=100.28, serie='7927'),\n",
       " VariableEconomica(titulo='tipo de cambio mayorista ($ por us$) comunicación a 3500\\xa0- referencia', link='http://www.bcra.gov.ar/PublicacionesEstadisticas/Principales_variables_datos.asp?serie=272&detalle=Tipo de Cambio Mayorista ($ por US$) Comunicación A 3500 - Referencia', fecha=Timestamp('2021-06-04 00:00:00'), valor=94.86, serie='272'),\n",
       " VariableEconomica(titulo='tasa de política monetaria (en % n.a.)', link='http://www.bcra.gov.ar/PublicacionesEstadisticas/Principales_variables_datos.asp?serie=7935&detalle=Tasa de Política Monetaria (en % n.a.)', fecha=Timestamp('2021-06-04 00:00:00'), valor=38.0, serie='7935'),\n",
       " VariableEconomica(titulo='tasa de política monetaria (en % e.a.)', link='http://www.bcra.gov.ar/PublicacionesEstadisticas/Principales_variables_datos.asp?serie=7936&detalle=Tasa de Política Monetaria (en % e.a.)', fecha=Timestamp('2021-06-04 00:00:00'), valor=45.44, serie='7936'),\n",
       " VariableEconomica(titulo='tasa fija de precancelación para depósitos con opción de cancelación anticipada en uva (en % n.a.)', link='http://www.bcra.gov.ar/PublicacionesEstadisticas/Principales_variables_datos.asp?serie=7934&detalle=Tasa fija de precancelación para depósitos con opción de cancelación anticipada en UVA (en % n.a.)', fecha=Timestamp('2021-06-04 00:00:00'), valor=30.5, serie='7934'),\n",
       " VariableEconomica(titulo='tasa mínima para plazos fijos de personas humanas hasta $1 millón (en % n.a.)', link='http://www.bcra.gov.ar/PublicacionesEstadisticas/Principales_variables_datos.asp?serie=7938&detalle=Tasa mínima para plazos fijos de personas humanas hasta $1 millón (en % n.a.)', fecha=Timestamp('2021-06-04 00:00:00'), valor=37.0, serie='7938')]"
      ]
     },
     "metadata": {},
     "execution_count": 10
    }
   ],
   "source": [
    "list(map(lambda iterrow: VariableEconomica(**dict(iterrow[1])), df.iterrows()))"
   ]
  },
  {
   "cell_type": "code",
   "execution_count": 11,
   "metadata": {},
   "outputs": [],
   "source": [
    "async with AsyncClient() as client:\n",
    "    response = await client.post(\"http://www.bcra.gov.ar/PublicacionesEstadisticas/Principales_variables_datos.asp\", data={\"fecha_desde\": \"2021-01-01\", \"fecha_hasta\": \"2021-05-05\", \"primeravez\": \"1\", \"serie\":\"246\"})\n",
    "soup = BeautifulSoup(response.read(), \"html.parser\")"
   ]
  },
  {
   "cell_type": "code",
   "execution_count": 12,
   "metadata": {},
   "outputs": [
    {
     "output_type": "execute_result",
     "data": {
      "text/plain": [
       "[VariableEconomica(titulo=None, link=None, fecha=datetime.datetime(2021, 1, 4, 0, 0), valor=39.501, serie=None),\n",
       " VariableEconomica(titulo=None, link=None, fecha=datetime.datetime(2021, 1, 5, 0, 0), valor=39.54, serie=None),\n",
       " VariableEconomica(titulo=None, link=None, fecha=datetime.datetime(2021, 1, 6, 0, 0), valor=39.546, serie=None),\n",
       " VariableEconomica(titulo=None, link=None, fecha=datetime.datetime(2021, 1, 7, 0, 0), valor=39.556, serie=None),\n",
       " VariableEconomica(titulo=None, link=None, fecha=datetime.datetime(2021, 1, 8, 0, 0), valor=39.462, serie=None),\n",
       " VariableEconomica(titulo=None, link=None, fecha=datetime.datetime(2021, 1, 11, 0, 0), valor=39.605, serie=None),\n",
       " VariableEconomica(titulo=None, link=None, fecha=datetime.datetime(2021, 1, 12, 0, 0), valor=39.708, serie=None),\n",
       " VariableEconomica(titulo=None, link=None, fecha=datetime.datetime(2021, 1, 13, 0, 0), valor=39.765, serie=None),\n",
       " VariableEconomica(titulo=None, link=None, fecha=datetime.datetime(2021, 1, 14, 0, 0), valor=39.791, serie=None),\n",
       " VariableEconomica(titulo=None, link=None, fecha=datetime.datetime(2021, 1, 15, 0, 0), valor=39.808, serie=None),\n",
       " VariableEconomica(titulo=None, link=None, fecha=datetime.datetime(2021, 1, 18, 0, 0), valor=39.812, serie=None),\n",
       " VariableEconomica(titulo=None, link=None, fecha=datetime.datetime(2021, 1, 19, 0, 0), valor=39.779, serie=None),\n",
       " VariableEconomica(titulo=None, link=None, fecha=datetime.datetime(2021, 1, 20, 0, 0), valor=39.741, serie=None),\n",
       " VariableEconomica(titulo=None, link=None, fecha=datetime.datetime(2021, 1, 21, 0, 0), valor=39.757, serie=None),\n",
       " VariableEconomica(titulo=None, link=None, fecha=datetime.datetime(2021, 1, 22, 0, 0), valor=39.687, serie=None),\n",
       " VariableEconomica(titulo=None, link=None, fecha=datetime.datetime(2021, 1, 25, 0, 0), valor=39.69, serie=None),\n",
       " VariableEconomica(titulo=None, link=None, fecha=datetime.datetime(2021, 1, 26, 0, 0), valor=39.627, serie=None),\n",
       " VariableEconomica(titulo=None, link=None, fecha=datetime.datetime(2021, 1, 27, 0, 0), valor=39.45, serie=None),\n",
       " VariableEconomica(titulo=None, link=None, fecha=datetime.datetime(2021, 1, 28, 0, 0), valor=39.482, serie=None),\n",
       " VariableEconomica(titulo=None, link=None, fecha=datetime.datetime(2021, 1, 29, 0, 0), valor=39.515, serie=None),\n",
       " VariableEconomica(titulo=None, link=None, fecha=datetime.datetime(2021, 2, 1, 0, 0), valor=39.46, serie=None),\n",
       " VariableEconomica(titulo=None, link=None, fecha=datetime.datetime(2021, 2, 2, 0, 0), valor=39.453, serie=None),\n",
       " VariableEconomica(titulo=None, link=None, fecha=datetime.datetime(2021, 2, 3, 0, 0), valor=39.473, serie=None),\n",
       " VariableEconomica(titulo=None, link=None, fecha=datetime.datetime(2021, 2, 4, 0, 0), valor=39.134, serie=None),\n",
       " VariableEconomica(titulo=None, link=None, fecha=datetime.datetime(2021, 2, 5, 0, 0), valor=39.174, serie=None),\n",
       " VariableEconomica(titulo=None, link=None, fecha=datetime.datetime(2021, 2, 8, 0, 0), valor=39.233, serie=None),\n",
       " VariableEconomica(titulo=None, link=None, fecha=datetime.datetime(2021, 2, 9, 0, 0), valor=39.27, serie=None),\n",
       " VariableEconomica(titulo=None, link=None, fecha=datetime.datetime(2021, 2, 10, 0, 0), valor=39.278, serie=None),\n",
       " VariableEconomica(titulo=None, link=None, fecha=datetime.datetime(2021, 2, 11, 0, 0), valor=39.359, serie=None),\n",
       " VariableEconomica(titulo=None, link=None, fecha=datetime.datetime(2021, 2, 12, 0, 0), valor=39.369, serie=None),\n",
       " VariableEconomica(titulo=None, link=None, fecha=datetime.datetime(2021, 2, 17, 0, 0), valor=39.399, serie=None),\n",
       " VariableEconomica(titulo=None, link=None, fecha=datetime.datetime(2021, 2, 18, 0, 0), valor=39.31, serie=None),\n",
       " VariableEconomica(titulo=None, link=None, fecha=datetime.datetime(2021, 2, 19, 0, 0), valor=39.425, serie=None),\n",
       " VariableEconomica(titulo=None, link=None, fecha=datetime.datetime(2021, 2, 22, 0, 0), valor=39.476, serie=None),\n",
       " VariableEconomica(titulo=None, link=None, fecha=datetime.datetime(2021, 2, 23, 0, 0), valor=39.498, serie=None),\n",
       " VariableEconomica(titulo=None, link=None, fecha=datetime.datetime(2021, 2, 24, 0, 0), valor=39.506, serie=None),\n",
       " VariableEconomica(titulo=None, link=None, fecha=datetime.datetime(2021, 2, 25, 0, 0), valor=39.517, serie=None),\n",
       " VariableEconomica(titulo=None, link=None, fecha=datetime.datetime(2021, 2, 26, 0, 0), valor=39.518, serie=None),\n",
       " VariableEconomica(titulo=None, link=None, fecha=datetime.datetime(2021, 3, 1, 0, 0), valor=39.617, serie=None),\n",
       " VariableEconomica(titulo=None, link=None, fecha=datetime.datetime(2021, 3, 2, 0, 0), valor=39.654, serie=None),\n",
       " VariableEconomica(titulo=None, link=None, fecha=datetime.datetime(2021, 3, 3, 0, 0), valor=39.718, serie=None),\n",
       " VariableEconomica(titulo=None, link=None, fecha=datetime.datetime(2021, 3, 4, 0, 0), valor=39.784, serie=None),\n",
       " VariableEconomica(titulo=None, link=None, fecha=datetime.datetime(2021, 3, 5, 0, 0), valor=39.799, serie=None),\n",
       " VariableEconomica(titulo=None, link=None, fecha=datetime.datetime(2021, 3, 8, 0, 0), valor=39.729, serie=None),\n",
       " VariableEconomica(titulo=None, link=None, fecha=datetime.datetime(2021, 3, 9, 0, 0), valor=39.747, serie=None),\n",
       " VariableEconomica(titulo=None, link=None, fecha=datetime.datetime(2021, 3, 10, 0, 0), valor=39.75, serie=None),\n",
       " VariableEconomica(titulo=None, link=None, fecha=datetime.datetime(2021, 3, 11, 0, 0), valor=39.807, serie=None),\n",
       " VariableEconomica(titulo=None, link=None, fecha=datetime.datetime(2021, 3, 12, 0, 0), valor=39.823, serie=None),\n",
       " VariableEconomica(titulo=None, link=None, fecha=datetime.datetime(2021, 3, 15, 0, 0), valor=39.865, serie=None),\n",
       " VariableEconomica(titulo=None, link=None, fecha=datetime.datetime(2021, 3, 16, 0, 0), valor=39.881, serie=None),\n",
       " VariableEconomica(titulo=None, link=None, fecha=datetime.datetime(2021, 3, 17, 0, 0), valor=39.834, serie=None),\n",
       " VariableEconomica(titulo=None, link=None, fecha=datetime.datetime(2021, 3, 18, 0, 0), valor=39.774, serie=None),\n",
       " VariableEconomica(titulo=None, link=None, fecha=datetime.datetime(2021, 3, 19, 0, 0), valor=39.728, serie=None),\n",
       " VariableEconomica(titulo=None, link=None, fecha=datetime.datetime(2021, 3, 22, 0, 0), valor=39.651, serie=None),\n",
       " VariableEconomica(titulo=None, link=None, fecha=datetime.datetime(2021, 3, 23, 0, 0), valor=39.679, serie=None),\n",
       " VariableEconomica(titulo=None, link=None, fecha=datetime.datetime(2021, 3, 25, 0, 0), valor=39.61, serie=None),\n",
       " VariableEconomica(titulo=None, link=None, fecha=datetime.datetime(2021, 3, 26, 0, 0), valor=39.539, serie=None),\n",
       " VariableEconomica(titulo=None, link=None, fecha=datetime.datetime(2021, 3, 29, 0, 0), valor=39.471, serie=None),\n",
       " VariableEconomica(titulo=None, link=None, fecha=datetime.datetime(2021, 3, 30, 0, 0), valor=39.52, serie=None),\n",
       " VariableEconomica(titulo=None, link=None, fecha=datetime.datetime(2021, 3, 31, 0, 0), valor=39.593, serie=None),\n",
       " VariableEconomica(titulo=None, link=None, fecha=datetime.datetime(2021, 4, 5, 0, 0), valor=39.645, serie=None),\n",
       " VariableEconomica(titulo=None, link=None, fecha=datetime.datetime(2021, 4, 6, 0, 0), valor=39.709, serie=None),\n",
       " VariableEconomica(titulo=None, link=None, fecha=datetime.datetime(2021, 4, 7, 0, 0), valor=39.751, serie=None),\n",
       " VariableEconomica(titulo=None, link=None, fecha=datetime.datetime(2021, 4, 8, 0, 0), valor=39.801, serie=None),\n",
       " VariableEconomica(titulo=None, link=None, fecha=datetime.datetime(2021, 4, 9, 0, 0), valor=39.85, serie=None),\n",
       " VariableEconomica(titulo=None, link=None, fecha=datetime.datetime(2021, 4, 12, 0, 0), valor=39.922, serie=None),\n",
       " VariableEconomica(titulo=None, link=None, fecha=datetime.datetime(2021, 4, 13, 0, 0), valor=39.998, serie=None),\n",
       " VariableEconomica(titulo=None, link=None, fecha=datetime.datetime(2021, 4, 14, 0, 0), valor=40.02, serie=None),\n",
       " VariableEconomica(titulo=None, link=None, fecha=datetime.datetime(2021, 4, 15, 0, 0), valor=40.07, serie=None),\n",
       " VariableEconomica(titulo=None, link=None, fecha=datetime.datetime(2021, 4, 16, 0, 0), valor=40.078, serie=None),\n",
       " VariableEconomica(titulo=None, link=None, fecha=datetime.datetime(2021, 4, 19, 0, 0), valor=40.146, serie=None),\n",
       " VariableEconomica(titulo=None, link=None, fecha=datetime.datetime(2021, 4, 20, 0, 0), valor=40.187, serie=None),\n",
       " VariableEconomica(titulo=None, link=None, fecha=datetime.datetime(2021, 4, 21, 0, 0), valor=40.208, serie=None),\n",
       " VariableEconomica(titulo=None, link=None, fecha=datetime.datetime(2021, 4, 22, 0, 0), valor=40.22, serie=None),\n",
       " VariableEconomica(titulo=None, link=None, fecha=datetime.datetime(2021, 4, 23, 0, 0), valor=40.257, serie=None),\n",
       " VariableEconomica(titulo=None, link=None, fecha=datetime.datetime(2021, 4, 26, 0, 0), valor=40.271, serie=None),\n",
       " VariableEconomica(titulo=None, link=None, fecha=datetime.datetime(2021, 4, 27, 0, 0), valor=40.33, serie=None),\n",
       " VariableEconomica(titulo=None, link=None, fecha=datetime.datetime(2021, 4, 28, 0, 0), valor=40.339, serie=None),\n",
       " VariableEconomica(titulo=None, link=None, fecha=datetime.datetime(2021, 4, 29, 0, 0), valor=40.357, serie=None),\n",
       " VariableEconomica(titulo=None, link=None, fecha=datetime.datetime(2021, 4, 30, 0, 0), valor=40.263, serie=None),\n",
       " VariableEconomica(titulo=None, link=None, fecha=datetime.datetime(2021, 5, 3, 0, 0), valor=40.36, serie=None),\n",
       " VariableEconomica(titulo=None, link=None, fecha=datetime.datetime(2021, 5, 4, 0, 0), valor=40.433, serie=None),\n",
       " VariableEconomica(titulo=None, link=None, fecha=datetime.datetime(2021, 5, 5, 0, 0), valor=40.493, serie=None)]"
      ]
     },
     "metadata": {},
     "execution_count": 12
    }
   ],
   "source": [
    "table = soup.find_all(\"tbody\")\n",
    "[VariableEconomica(fecha=tds[0].text, valor=tds[1].text) for row in table if (tds:=row.find_all('td')) ]"
   ]
  },
  {
   "cell_type": "code",
   "execution_count": null,
   "metadata": {},
   "outputs": [],
   "source": []
  },
  {
   "cell_type": "code",
   "execution_count": null,
   "metadata": {},
   "outputs": [],
   "source": []
  },
  {
   "cell_type": "code",
   "execution_count": null,
   "metadata": {},
   "outputs": [],
   "source": []
  }
 ]
}