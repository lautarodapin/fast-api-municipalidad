{
 "metadata": {
  "language_info": {
   "codemirror_mode": {
    "name": "ipython",
    "version": 3
   },
   "file_extension": ".py",
   "mimetype": "text/x-python",
   "name": "python",
   "nbconvert_exporter": "python",
   "pygments_lexer": "ipython3",
   "version": "3.8.4"
  },
  "orig_nbformat": 2,
  "kernelspec": {
   "name": "python384jvsc74a57bd0a0f7385a5c1e62c4cf4508ccf5d5e6ab99baf9f0df32f7e9dc8119b2ef5bd2c5",
   "display_name": "Python 3.8.4 64-bit"
  }
 },
 "nbformat": 4,
 "nbformat_minor": 2,
 "cells": [
  {
   "cell_type": "code",
   "execution_count": 3,
   "metadata": {},
   "outputs": [],
   "source": [
    "from httpx import AsyncClient\n",
    "from bs4 import BeautifulSoup\n",
    "import pandas as pd\n",
    "from datetime import datetime\n",
    "import re\n",
    "from schemas import VariableEconomica"
   ]
  },
  {
   "cell_type": "code",
   "execution_count": 4,
   "metadata": {},
   "outputs": [],
   "source": [
    "async with AsyncClient() as client:\n",
    "    response = await client.get(\"http://www.bcra.gov.ar/PublicacionesEstadisticas/Principales_variables.asp\")"
   ]
  },
  {
   "cell_type": "code",
   "execution_count": 5,
   "metadata": {},
   "outputs": [],
   "source": [
    "soup = BeautifulSoup(response.read(), 'html.parser')"
   ]
  },
  {
   "cell_type": "code",
   "execution_count": 6,
   "metadata": {},
   "outputs": [],
   "source": [
    "table = soup.find(\"table\", attrs={\"class\": \"table\"})"
   ]
  },
  {
   "cell_type": "code",
   "execution_count": 7,
   "metadata": {},
   "outputs": [],
   "source": [
    "headers = [\"titulo\", \"fecha\", \"valor\", \"link\", \"serie\"]\n",
    "rows = table.find_all(\"tr\")"
   ]
  },
  {
   "cell_type": "code",
   "execution_count": 8,
   "metadata": {},
   "outputs": [
    {
     "output_type": "stream",
     "name": "stdout",
     "text": [
      "http://www.bcra.gov.ar/PublicacionesEstadisticas/Principales_variables_datos.asp?serie=246&detalle=Reservas Internacionales del BCRA (en millones de dólares - cifras provisorias sujetas a cambio de valuación)\nhttp://www.bcra.gov.ar/PublicacionesEstadisticas/Principales_variables_datos.asp?serie=7927&detalle=Tipo de Cambio Minorista ($ por US$) Comunicación B 9791 - Promedio vendedor\nhttp://www.bcra.gov.ar/PublicacionesEstadisticas/Principales_variables_datos.asp?serie=272&detalle=Tipo de Cambio Mayorista ($ por US$) Comunicación A 3500 - Referencia\nhttp://www.bcra.gov.ar/PublicacionesEstadisticas/Principales_variables_datos.asp?serie=7935&detalle=Tasa de Política Monetaria (en % n.a.)\nhttp://www.bcra.gov.ar/PublicacionesEstadisticas/Principales_variables_datos.asp?serie=7936&detalle=Tasa de Política Monetaria (en % e.a.)\nhttp://www.bcra.gov.ar/PublicacionesEstadisticas/Principales_variables_datos.asp?serie=7934&detalle=Tasa fija de precancelación para depósitos con opción de cancelación anticipada en UVA (en % n.a.)\nhttp://www.bcra.gov.ar/PublicacionesEstadisticas/Principales_variables_datos.asp?serie=7938&detalle=Tasa mínima para plazos fijos de personas humanas hasta $1 millón (en % n.a.)\n"
     ]
    }
   ],
   "source": [
    "table = []\n",
    "for row in rows:\n",
    "    if row.text:\n",
    "        cells = row.find_all(\"td\")\n",
    "        if len(cells) < 3: continue\n",
    "        titulo = cells[0].text.strip().lower()\n",
    "        fecha = datetime.strptime(cells[1].text, \"%d/%m/%Y\")\n",
    "        valor = float(cells[2].text.replace('.', '').replace(',', '.'))\n",
    "        link = f\"http://www.bcra.gov.ar\" + cells[0].find('a').get('href').strip().replace('\\xa0', ' ')\n",
    "        serie = re.compile(r'serie=(\\d{1,6})').search(link).group(1)\n",
    "        print(link)\n",
    "        table.append([titulo, fecha, valor, link, serie])\n",
    "    "
   ]
  },
  {
   "cell_type": "code",
   "execution_count": 9,
   "metadata": {},
   "outputs": [
    {
     "output_type": "execute_result",
     "data": {
      "text/plain": [
       "                                              titulo      fecha     valor  \\\n",
       "0  reservas internacionales del bcra (en millones... 2021-06-07  42292.00   \n",
       "1  tipo de cambio minorista ($ por us$) comunicac... 2021-06-09    100.36   \n",
       "2  tipo de cambio mayorista ($ por us$) comunicac... 2021-06-09     95.06   \n",
       "3             tasa de política monetaria (en % n.a.) 2021-06-09     38.00   \n",
       "4             tasa de política monetaria (en % e.a.) 2021-06-09     45.44   \n",
       "5  tasa fija de precancelación para depósitos con... 2021-06-09     30.50   \n",
       "6  tasa mínima para plazos fijos de personas huma... 2021-06-09     37.00   \n",
       "\n",
       "                                                link serie  \n",
       "0  http://www.bcra.gov.ar/PublicacionesEstadistic...   246  \n",
       "1  http://www.bcra.gov.ar/PublicacionesEstadistic...  7927  \n",
       "2  http://www.bcra.gov.ar/PublicacionesEstadistic...   272  \n",
       "3  http://www.bcra.gov.ar/PublicacionesEstadistic...  7935  \n",
       "4  http://www.bcra.gov.ar/PublicacionesEstadistic...  7936  \n",
       "5  http://www.bcra.gov.ar/PublicacionesEstadistic...  7934  \n",
       "6  http://www.bcra.gov.ar/PublicacionesEstadistic...  7938  "
      ],
      "text/html": "<div>\n<style scoped>\n    .dataframe tbody tr th:only-of-type {\n        vertical-align: middle;\n    }\n\n    .dataframe tbody tr th {\n        vertical-align: top;\n    }\n\n    .dataframe thead th {\n        text-align: right;\n    }\n</style>\n<table border=\"1\" class=\"dataframe\">\n  <thead>\n    <tr style=\"text-align: right;\">\n      <th></th>\n      <th>titulo</th>\n      <th>fecha</th>\n      <th>valor</th>\n      <th>link</th>\n      <th>serie</th>\n    </tr>\n  </thead>\n  <tbody>\n    <tr>\n      <th>0</th>\n      <td>reservas internacionales del bcra (en millones...</td>\n      <td>2021-06-07</td>\n      <td>42292.00</td>\n      <td>http://www.bcra.gov.ar/PublicacionesEstadistic...</td>\n      <td>246</td>\n    </tr>\n    <tr>\n      <th>1</th>\n      <td>tipo de cambio minorista ($ por us$) comunicac...</td>\n      <td>2021-06-09</td>\n      <td>100.36</td>\n      <td>http://www.bcra.gov.ar/PublicacionesEstadistic...</td>\n      <td>7927</td>\n    </tr>\n    <tr>\n      <th>2</th>\n      <td>tipo de cambio mayorista ($ por us$) comunicac...</td>\n      <td>2021-06-09</td>\n      <td>95.06</td>\n      <td>http://www.bcra.gov.ar/PublicacionesEstadistic...</td>\n      <td>272</td>\n    </tr>\n    <tr>\n      <th>3</th>\n      <td>tasa de política monetaria (en % n.a.)</td>\n      <td>2021-06-09</td>\n      <td>38.00</td>\n      <td>http://www.bcra.gov.ar/PublicacionesEstadistic...</td>\n      <td>7935</td>\n    </tr>\n    <tr>\n      <th>4</th>\n      <td>tasa de política monetaria (en % e.a.)</td>\n      <td>2021-06-09</td>\n      <td>45.44</td>\n      <td>http://www.bcra.gov.ar/PublicacionesEstadistic...</td>\n      <td>7936</td>\n    </tr>\n    <tr>\n      <th>5</th>\n      <td>tasa fija de precancelación para depósitos con...</td>\n      <td>2021-06-09</td>\n      <td>30.50</td>\n      <td>http://www.bcra.gov.ar/PublicacionesEstadistic...</td>\n      <td>7934</td>\n    </tr>\n    <tr>\n      <th>6</th>\n      <td>tasa mínima para plazos fijos de personas huma...</td>\n      <td>2021-06-09</td>\n      <td>37.00</td>\n      <td>http://www.bcra.gov.ar/PublicacionesEstadistic...</td>\n      <td>7938</td>\n    </tr>\n  </tbody>\n</table>\n</div>"
     },
     "metadata": {},
     "execution_count": 9
    }
   ],
   "source": [
    "df = pd.DataFrame(table, columns=headers)\n",
    "df"
   ]
  },
  {
   "cell_type": "code",
   "execution_count": 10,
   "metadata": {},
   "outputs": [
    {
     "output_type": "execute_result",
     "data": {
      "text/plain": [
       "'http://www.bcra.gov.ar/PublicacionesEstadisticas/Principales_variables_datos.asp?serie=246&detalle=Reservas Internacionales del BCRA (en millones de dólares - cifras provisorias sujetas a cambio de valuación)'"
      ]
     },
     "metadata": {},
     "execution_count": 10
    }
   ],
   "source": [
    "df.loc[0]['link'].replace('\\xa0', ' ')"
   ]
  },
  {
   "cell_type": "code",
   "execution_count": 11,
   "metadata": {},
   "outputs": [],
   "source": [
    "from schemas import VariableEconomica"
   ]
  },
  {
   "cell_type": "code",
   "execution_count": 12,
   "metadata": {},
   "outputs": [
    {
     "output_type": "execute_result",
     "data": {
      "text/plain": [
       "[VariableEconomica(titulo='reservas internacionales del bcra\\xa0(en millones de dólares - cifras provisorias sujetas a cambio de valuación)', link='http://www.bcra.gov.ar/PublicacionesEstadisticas/Principales_variables_datos.asp?serie=246&detalle=Reservas Internacionales del BCRA (en millones de dólares - cifras provisorias sujetas a cambio de valuación)', fecha=Timestamp('2021-06-07 00:00:00'), valor=42292.0, serie='246'),\n",
       " VariableEconomica(titulo='tipo de cambio minorista ($ por us$) comunicación b 9791 - promedio vendedor', link='http://www.bcra.gov.ar/PublicacionesEstadisticas/Principales_variables_datos.asp?serie=7927&detalle=Tipo de Cambio Minorista ($ por US$) Comunicación B 9791 - Promedio vendedor', fecha=Timestamp('2021-06-09 00:00:00'), valor=100.36, serie='7927'),\n",
       " VariableEconomica(titulo='tipo de cambio mayorista ($ por us$) comunicación a 3500\\xa0- referencia', link='http://www.bcra.gov.ar/PublicacionesEstadisticas/Principales_variables_datos.asp?serie=272&detalle=Tipo de Cambio Mayorista ($ por US$) Comunicación A 3500 - Referencia', fecha=Timestamp('2021-06-09 00:00:00'), valor=95.06, serie='272'),\n",
       " VariableEconomica(titulo='tasa de política monetaria (en % n.a.)', link='http://www.bcra.gov.ar/PublicacionesEstadisticas/Principales_variables_datos.asp?serie=7935&detalle=Tasa de Política Monetaria (en % n.a.)', fecha=Timestamp('2021-06-09 00:00:00'), valor=38.0, serie='7935'),\n",
       " VariableEconomica(titulo='tasa de política monetaria (en % e.a.)', link='http://www.bcra.gov.ar/PublicacionesEstadisticas/Principales_variables_datos.asp?serie=7936&detalle=Tasa de Política Monetaria (en % e.a.)', fecha=Timestamp('2021-06-09 00:00:00'), valor=45.44, serie='7936'),\n",
       " VariableEconomica(titulo='tasa fija de precancelación para depósitos con opción de cancelación anticipada en uva (en % n.a.)', link='http://www.bcra.gov.ar/PublicacionesEstadisticas/Principales_variables_datos.asp?serie=7934&detalle=Tasa fija de precancelación para depósitos con opción de cancelación anticipada en UVA (en % n.a.)', fecha=Timestamp('2021-06-09 00:00:00'), valor=30.5, serie='7934'),\n",
       " VariableEconomica(titulo='tasa mínima para plazos fijos de personas humanas hasta $1 millón (en % n.a.)', link='http://www.bcra.gov.ar/PublicacionesEstadisticas/Principales_variables_datos.asp?serie=7938&detalle=Tasa mínima para plazos fijos de personas humanas hasta $1 millón (en % n.a.)', fecha=Timestamp('2021-06-09 00:00:00'), valor=37.0, serie='7938')]"
      ]
     },
     "metadata": {},
     "execution_count": 12
    }
   ],
   "source": [
    "list(map(lambda iterrow: VariableEconomica(**dict(iterrow[1])), df.iterrows()))"
   ]
  },
  {
   "cell_type": "code",
   "execution_count": 23,
   "metadata": {},
   "outputs": [],
   "source": [
    "async with AsyncClient() as client:\n",
    "    response = await client.post(\"http://www.bcra.gov.ar/PublicacionesEstadisticas/Principales_variables_datos.asp\", data={\"fecha_desde\": \"2021-01-01\", \"fecha_hasta\": \"2021-05-05\", \"primeravez\": \"1\", \"serie\":\"246\"})\n",
    "soup = BeautifulSoup(response.read(), \"html.parser\")"
   ]
  },
  {
   "cell_type": "code",
   "execution_count": 24,
   "metadata": {},
   "outputs": [],
   "source": [
    "table = soup.find_all(\"tbody\")\n",
    "r = [VariableEconomica(fecha=tds[0].text, valor=tds[1].text) for row in table if (tds:=row.find_all('td')) ]"
   ]
  },
  {
   "cell_type": "code",
   "execution_count": 25,
   "metadata": {},
   "outputs": [
    {
     "output_type": "execute_result",
     "data": {
      "text/plain": [
       "'39501'"
      ]
     },
     "metadata": {},
     "execution_count": 25
    }
   ],
   "source": [
    "table[0].find_all('td')[1].text.strip().replace('.', '')"
   ]
  },
  {
   "cell_type": "code",
   "execution_count": null,
   "metadata": {},
   "outputs": [],
   "source": []
  },
  {
   "cell_type": "code",
   "execution_count": null,
   "metadata": {},
   "outputs": [],
   "source": []
  }
 ]
}