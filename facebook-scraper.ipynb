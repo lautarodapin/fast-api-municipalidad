{
 "metadata": {
  "language_info": {
   "codemirror_mode": {
    "name": "ipython",
    "version": 3
   },
   "file_extension": ".py",
   "mimetype": "text/x-python",
   "name": "python",
   "nbconvert_exporter": "python",
   "pygments_lexer": "ipython3",
   "version": "3.8.4"
  },
  "orig_nbformat": 2,
  "kernelspec": {
   "name": "python384jvsc74a57bd0a0f7385a5c1e62c4cf4508ccf5d5e6ab99baf9f0df32f7e9dc8119b2ef5bd2c5",
   "display_name": "Python 3.8.4 64-bit"
  }
 },
 "nbformat": 4,
 "nbformat_minor": 2,
 "cells": [
  {
   "cell_type": "code",
   "execution_count": 88,
   "metadata": {},
   "outputs": [],
   "source": [
    "import facebook_scraper as fc\n",
    "import re\n",
    "from collections import Counter\n",
    "from pydantic import BaseModel, validator"
   ]
  },
  {
   "cell_type": "code",
   "execution_count": 2,
   "metadata": {},
   "outputs": [
    {
     "output_type": "stream",
     "name": "stderr",
     "text": [
      "C:\\Users\\Lautaro\\AppData\\Local\\Programs\\Python\\Python38\\lib\\site-packages\\facebook_scraper\\facebook_scraper.py:258: UserWarning: Locale detected as es_LA - for best results, set to en_US\n  warnings.warn(f\"Locale detected as {locale} - for best results, set to en_US\")\n"
     ]
    }
   ],
   "source": [
    "posts = list(fc.get_posts('hcdvillamercde', pages=10))"
   ]
  },
  {
   "cell_type": "code",
   "execution_count": 8,
   "metadata": {},
   "outputs": [
    {
     "output_type": "execute_result",
     "data": {
      "text/plain": [
       "['PRENSA HCD.\\nSESIÓN ORDINARIA 01-06-2021 HONORABLE CONCEJO DELIBERANTE\\n\\n💬 La Presidenta Provisional del Honorable Concejo Deliberante Lic. María Laura Rodríguez presidió una nueva sesión ordinaria en este martes 1 de junio del 2021, quien a su vez estuvo secundado por el Secretario Administrativo Sr. Daniel Dávila y el Secretario Legislativo Sr. Kevin Criscito Montero.\\n\\n✋🏻 Esta vez la sesión se llevó a cabo con la participación presencial de las Concejalas, Ivana Ricca y Lucrecia Soria, como así también los Concejales Carlos Andreotti, Andrés Forgione, Diego González, Marcelo Periale, Jorge Rosales y Hugo Rossi; en tanto de manera virtual lo hicieron las Concejalas Flavia Coria, Nadia Torres y los Concejales Federico Fonzar y Pablo Muract.\\n\\n🇦🇷 Esta vez Izó y arrió la Bandera Nacional el Concejal Hugo Rodolfo Rossi.\\nEl Secretario Administrativo tomó asistencia a las Sras. Concejalas y Sres. Concejales y leyó las correspondencias ingresadas las que fueron enviadas a la comisión respectiva, salvo el expediente interno del DEM N° 6325-2021 con aprobación previa como apartamento del reglamento e ingresado como punto como L en los asuntos entrados.\\n\\n📂 En los momentos de hacer homenajes o ingresar proyectos a la orden del día, el Concejal Carlos Andreotti ingresó un proyecto. En tanto la Concejala Lucrecia Soria se refirió al vetó de la ordenanza que establece la creación de un programa llamado “Villa Mercedes libre de PET” donde además la norma instituye la prohibición entrega, puesta a disposición y expendio en el ámbito de la ciudad, de los productos plásticos de un solo uso.\\n\\n• En el primer punto de la circular N°1506 se aprobó por unanimidad tanto el acta N° 1496 de la Sesión Ordinaria 11-05-2021 como el Acta N° 1497 de la Sesión Ordinaria 18-05-2021.\\n\\n• En cuanto a los asuntos entrados fueron leídos y fundamentados por las Concejalas y Concejales autores de los proyectos presentados, los que fueron enviados a su respectiva comisión, salvo los expedientes tratados sobre tablas y que a continuación se detalla.\\n\\n',\n",
       " '️ El Expte. N° 20125-o/21 Bloque Todos Unidos Proyecto de Ordenanza referido a establecer en el ámbito de la ciudad de Villa Mercedes al 03 de junio de cada año como \"Día Municipal de la Bicicleta\", en adhesión a la celebración internacional, fundamentado por la Concejala Lucrecia Soria y aprobado por mayoría.\\n\\n',\n",
       " '️ El expediente interno del DEM N° 6325-2021 referido a remite proyecto de ordenanza tendiente a la modificación del artículo XXXV de la ordenanza N°1094 HyP/O/2021 de emergencia en materia sanitaria, económica, fiscal y administrativa el mismo fue fundamentado por el Concejal Periale donde la modificación establece para todos aquellos comercios que permanecieron cerrados o se vieron afectados por las medidas restrictivas sanitarias, que quedarán eximidos de manera total de la contribución municipal y de obras sanitarias hasta que la situación se normalice.\\n\\nEl Concejal Carlos Andreotti puntualizó una serie de modificaciones en los artículos de la mencionada norma. En ese sentido la Concejala Nadia Torres vertió su criterio y celebró la iniciativa del ejecutivo municipal- el mismo tuvo su aprobación de forma unánime.\\n\\n📌 DESPACHOS DE COMISIONES: ECOLOGÍA. MEDIO AMBIENTE E HIGIENE\\n\\n',\n",
       " '️ El Expte. N° 20096-c/21 Proyecto de Comunicación referido a requerir al Departamento Ejecutivo Municipal, la realización de una amplia campaña de difusión, a efectos de transmitir las recomendaciones y/o protocolos del Ministerio de Salud de la Nación respecto al tratamiento de los residuos por parte de las personas que se encuentran en aislamiento domiciliario por casos positivos de Covid-19, este despacho fue argumentado por la Concejala Lucrecia Soria y aprobado por mayoría.\\n\\n',\n",
       " '️ El Expte. N° 20107-c/21 Proyecto de Comunicación referido a solicitar al departamento Ejecutivo Municipal, la erradicación de basurales clandestinos existentes en la zona sur de la ciudad y la realización de campañas masivas de concientización ambienta, el mismo tuvo fundamentación por la Concejal Soria y el Concejal Jorge Rosales y aprobado por unanimidad.\\n\\n',\n",
       " '️ Expedientes Internos del Departamento Ejecutivo Municipal N° 3839-2021 y N° 5236-2021, a través de los cuales se tramita autorización para la extracción de árboles (Autorizados)el siguiente despacho fue aprobado de forma unánime.\\nExpediente Interno del Departamento Ejecutivo Municipal N° 4800-2021, a través del cual se tramita autorización para la extracción de árbol (No autorizado), la Concejala Soria argumentó el mencionado despacho fue aprobado por unanimidad.\\n\\n• Por último, la Concejala Nadia Torres en nombre del cuerpo se solidarizó con la empleada de la institución del HCD Paola Toledo quien atraviesa una complicada situación de salud debido al embate ocasionado por el Covid 19.\\n#HonorableConcejoDeliberante\\n#VillaMercedes\\n#SesiónOrdinaria\\n#Junio']"
      ]
     },
     "metadata": {},
     "execution_count": 8
    }
   ],
   "source": [
    "string = posts[2]['post_text']\n",
    "string.split('➡')"
   ]
  },
  {
   "cell_type": "code",
   "execution_count": 14,
   "metadata": {},
   "outputs": [],
   "source": [
    "lista = list(map(lambda x: x.strip().lower().replace('.', ' ').replace('#', ''), filter(lambda x: x ,string.split('\\n'))))\n",
    "s = \" \".join(lista)"
   ]
  },
  {
   "cell_type": "code",
   "execution_count": 15,
   "metadata": {},
   "outputs": [
    {
     "output_type": "execute_result",
     "data": {
      "text/plain": [
       "'prensa hcd  sesión ordinaria 01-06-2021 honorable concejo deliberante 💬 la presidenta provisional del honorable concejo deliberante lic  maría laura rodríguez presidió una nueva sesión ordinaria en este martes 1 de junio del 2021, quien a su vez estuvo secundado por el secretario administrativo sr  daniel dávila y el secretario legislativo sr  kevin criscito montero  ✋🏻 esta vez la sesión se llevó a cabo con la participación presencial de las concejalas, ivana ricca y lucrecia soria, como así también los concejales carlos andreotti, andrés forgione, diego gonzález, marcelo periale, jorge rosales y hugo rossi; en tanto de manera virtual lo hicieron las concejalas flavia coria, nadia torres y los concejales federico fonzar y pablo muract  🇦🇷 esta vez izó y arrió la bandera nacional el concejal hugo rodolfo rossi  el secretario administrativo tomó asistencia a las sras  concejalas y sres  concejales y leyó las correspondencias ingresadas las que fueron enviadas a la comisión respectiva, salvo el expediente interno del dem n° 6325-2021 con aprobación previa como apartamento del reglamento e ingresado como punto como l en los asuntos entrados  📂 en los momentos de hacer homenajes o ingresar proyectos a la orden del día, el concejal carlos andreotti ingresó un proyecto  en tanto la concejala lucrecia soria se refirió al vetó de la ordenanza que establece la creación de un programa llamado “villa mercedes libre de pet” donde además la norma instituye la prohibición entrega, puesta a disposición y expendio en el ámbito de la ciudad, de los productos plásticos de un solo uso  • en el primer punto de la circular n°1506 se aprobó por unanimidad tanto el acta n° 1496 de la sesión ordinaria 11-05-2021 como el acta n° 1497 de la sesión ordinaria 18-05-2021  • en cuanto a los asuntos entrados fueron leídos y fundamentados por las concejalas y concejales autores de los proyectos presentados, los que fueron enviados a su respectiva comisión, salvo los expedientes tratados sobre tablas y que a continuación se detalla  ➡️ el expte  n° 20125-o/21 bloque todos unidos proyecto de ordenanza referido a establecer en el ámbito de la ciudad de villa mercedes al 03 de junio de cada año como \"día municipal de la bicicleta\", en adhesión a la celebración internacional, fundamentado por la concejala lucrecia soria y aprobado por mayoría  ➡️ el expediente interno del dem n° 6325-2021 referido a remite proyecto de ordenanza tendiente a la modificación del artículo xxxv de la ordenanza n°1094 hyp/o/2021 de emergencia en materia sanitaria, económica, fiscal y administrativa el mismo fue fundamentado por el concejal periale donde la modificación establece para todos aquellos comercios que permanecieron cerrados o se vieron afectados por las medidas restrictivas sanitarias, que quedarán eximidos de manera total de la contribución municipal y de obras sanitarias hasta que la situación se normalice  el concejal carlos andreotti puntualizó una serie de modificaciones en los artículos de la mencionada norma  en ese sentido la concejala nadia torres vertió su criterio y celebró la iniciativa del ejecutivo municipal- el mismo tuvo su aprobación de forma unánime  📌 despachos de comisiones: ecología  medio ambiente e higiene ➡️ el expte  n° 20096-c/21 proyecto de comunicación referido a requerir al departamento ejecutivo municipal, la realización de una amplia campaña de difusión, a efectos de transmitir las recomendaciones y/o protocolos del ministerio de salud de la nación respecto al tratamiento de los residuos por parte de las personas que se encuentran en aislamiento domiciliario por casos positivos de covid-19, este despacho fue argumentado por la concejala lucrecia soria y aprobado por mayoría  ➡️ el expte  n° 20107-c/21 proyecto de comunicación referido a solicitar al departamento ejecutivo municipal, la erradicación de basurales clandestinos existentes en la zona sur de la ciudad y la realización de campañas masivas de concientización ambienta, el mismo tuvo fundamentación por la concejal soria y el concejal jorge rosales y aprobado por unanimidad  ➡️ expedientes internos del departamento ejecutivo municipal n° 3839-2021 y n° 5236-2021, a través de los cuales se tramita autorización para la extracción de árboles (autorizados)el siguiente despacho fue aprobado de forma unánime  expediente interno del departamento ejecutivo municipal n° 4800-2021, a través del cual se tramita autorización para la extracción de árbol (no autorizado), la concejala soria argumentó el mencionado despacho fue aprobado por unanimidad  • por último, la concejala nadia torres en nombre del cuerpo se solidarizó con la empleada de la institución del hcd paola toledo quien atraviesa una complicada situación de salud debido al embate ocasionado por el covid 19  honorableconcejodeliberante villamercedes sesiónordinaria junio'"
      ]
     },
     "metadata": {},
     "execution_count": 15
    }
   ],
   "source": [
    "s"
   ]
  },
  {
   "cell_type": "code",
   "execution_count": 70,
   "metadata": {},
   "outputs": [
    {
     "output_type": "execute_result",
     "data": {
      "text/plain": [
       "['día municipal de la bicicleta',\n",
       " 'proyecto de comunicación',\n",
       " 'proyecto de comunicación']"
      ]
     },
     "metadata": {},
     "execution_count": 70
    }
   ],
   "source": [
    "re.compile(r'\\bproyecto de comunicaci.n|\\bd.a [\\w ]+').findall(s)"
   ]
  },
  {
   "cell_type": "code",
   "execution_count": 80,
   "metadata": {},
   "outputs": [],
   "source": [
    "n = \" \".join(\n",
    "    [\n",
    "        \" \".join(\n",
    "                list(\n",
    "                    map(\n",
    "                        lambda x: x.strip().lower().replace('.', ' ').replace('#', ''), \n",
    "                        filter(\n",
    "                            lambda x: x ,\n",
    "                            p['post_text'].split('\\n')\n",
    "                        )\n",
    "                    )\n",
    "                )\n",
    "        \n",
    "        )\n",
    "     for p in posts\n",
    "    ]\n",
    ")"
   ]
  },
  {
   "cell_type": "code",
   "execution_count": 82,
   "metadata": {},
   "outputs": [],
   "source": [
    "coincidencias = re.compile(r'\\bproyecto de comunicaci.n|\\bd.a [\\w ]+').findall(n)"
   ]
  },
  {
   "cell_type": "code",
   "execution_count": 95,
   "metadata": {},
   "outputs": [
    {
     "output_type": "execute_result",
     "data": {
      "text/plain": [
       "Counter({'a': 7, 's': 3, 'd': 3, 'j': 17, 'k': 3, 'l': 2})"
      ]
     },
     "metadata": {},
     "execution_count": 95
    }
   ],
   "source": [
    "Counter('asdjklasdkjaslkdaaaajjjjjjjjjjjjjjj')"
   ]
  },
  {
   "cell_type": "code",
   "execution_count": 84,
   "metadata": {},
   "outputs": [
    {
     "output_type": "execute_result",
     "data": {
      "text/plain": [
       "40"
      ]
     },
     "metadata": {},
     "execution_count": 84
    }
   ],
   "source": [
    "len(coincidencias)"
   ]
  },
  {
   "cell_type": "code",
   "execution_count": 87,
   "metadata": {},
   "outputs": [
    {
     "output_type": "execute_result",
     "data": {
      "text/plain": [
       "0"
      ]
     },
     "metadata": {},
     "execution_count": 87
    }
   ],
   "source": [
    "coincidencias.count(coincidencias)\n"
   ]
  },
  {
   "cell_type": "code",
   "execution_count": 89,
   "metadata": {},
   "outputs": [
    {
     "output_type": "execute_result",
     "data": {
      "text/plain": [
       "Counter({'día del bombero voluntario nacional  ': 1,\n",
       "         'día nacional del bombero voluntario': 1,\n",
       "         'día municipal de la bicicleta': 1,\n",
       "         'proyecto de comunicación': 18,\n",
       "         'día del bombero voluntario nacional prensa hcd  https': 1,\n",
       "         'día el próximo 28 de mayo': 1,\n",
       "         'día internacional de la enfermería': 1,\n",
       "         'día de la patria y la revolución de mayo  ': 1,\n",
       "         'día de la patria y lamás revolución de mayo  la revolución de mayo es un acontecimiento bisagra en la historia de nuestro país  el 25 de mayo': 1,\n",
       "         'día internacional del bombero forestal': 1,\n",
       "         'día internacional del síndrome de cornelia de lange': 1,\n",
       "         'día del síndrome de cornelia de lange ': 1,\n",
       "         'día del himno nacional argentino  prensa hcd  se rindió honores al piloto gonzalo britos venturini este viernes 7 de mayo': 1,\n",
       "         'día del trabajador en argentina': 1,\n",
       "         'día de la constitución nacional': 1,\n",
       "         'día del trabajador': 2,\n",
       "         'día del trabajador ': 1,\n",
       "         'día del trabajador  para concluir los homenajes el concejal diego gonzález calificó de día histórico a la inauguración del magnífico hospital dr  ramón carillo': 1,\n",
       "         'día y la presentación de proyectos como así también de la presencialidad en el recinto  entre otros temas ingresados': 1,\n",
       "         'día lunes 19 de abril el edificio del honorable concejo deliberante fue desinfectado': 1,\n",
       "         'día del kinesiólogo donde todos los 13 de abril se reconoce a estos profesionales de la salud': 1,\n",
       "         'día del metalúrgico que se conmemora cada 7 de septiembre': 1})"
      ]
     },
     "metadata": {},
     "execution_count": 89
    }
   ],
   "source": [
    "Counter(coincidencias)"
   ]
  },
  {
   "cell_type": "code",
   "execution_count": null,
   "metadata": {},
   "outputs": [],
   "source": []
  }
 ]
}