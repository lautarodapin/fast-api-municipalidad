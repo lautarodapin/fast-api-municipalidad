{
 "metadata": {
  "language_info": {
   "codemirror_mode": {
    "name": "ipython",
    "version": 3
   },
   "file_extension": ".py",
   "mimetype": "text/x-python",
   "name": "python",
   "nbconvert_exporter": "python",
   "pygments_lexer": "ipython3",
   "version": "3.8.4"
  },
  "orig_nbformat": 2,
  "kernelspec": {
   "name": "python384jvsc74a57bd0ad75465fea0e5785f1251e12c1fb567059335af60a73de595ba7384121b84db8",
   "display_name": "Python 3.8.4  ('venv': venv)",
   "language": "python"
  }
 },
 "nbformat": 4,
 "nbformat_minor": 2,
 "cells": [
  {
   "cell_type": "code",
   "execution_count": 1,
   "metadata": {},
   "outputs": [
    {
     "output_type": "stream",
     "name": "stdout",
     "text": [
      "\n    Author: Oracle Reports\n    Creator: Oracle10gR2 AS Reports Services\n    Producer: Oracle PDF driver\n    Subject: None\n    Title: RC1C2220.RDF\n    Number of pages: 3\n    \nACTA DE APERTURA DE COTIZACIONESSISTEMA DE COMPRAS ON - LINESOLICITUD DE COTIZACION - EXPEDIENTE 2020-S-003433En la ciudad de Villa Mercedes, Provincia de San Luis a los 06 días de mayo      de 2021 , siendo las 08:00, hora fijada para la apertura DEL PEDIDO DE COTIZACIÓN del expediente de referencia - SISTEMA DE COMPRAS ON - LINE - el que fuera formulado para LLAMADO LICIT. ONLINE SERV. DE TRES (3) CAMIONES REGADORES.1 -  con domicilio en  nro: dpto: piso: ciudad: de la provincia de  , SE PRESENTARON LOS SIGUIENTES OFERENTES:PLANILLA COMPARATIVA DEL SISTEMA DE COMPRAS ON - LINE: DE LAS PROPUESTAS PRESENTADASSe adjunta a continuación la planilla comparativaSiendo las 08:00 se da por terminado este acto.                                                                                                                                                                                                                                          Firma y SelloJefe del Programa de Compras y SuministrosMunicipalidad de Villa MercedesOFERENTE Nº 1: La firma DUPLESSIS ARMANDO OMAR con domicilio en suipacha ext sur          nro:165 dpto: piso: ciudad:mercedes        de la provincia de san luis, CUIT  20-12828561-0OFERENTE Nº 2: La firma ARIAS, DIEGO OSCAR con domicilio en pringles nro:560 dpto: piso: ciudad:mercedes de la provincia de san luis, CUIT  23-11727448-9\n"
     ]
    }
   ],
   "source": [
    "from PyPDF2 import PdfFileReader\n",
    "import requests\n",
    "import io\n",
    "import httpx\n",
    "from bs4 import BeautifulSoup\n",
    "\n",
    "url='https://www.villamercedes.gov.ar/attachments/article/939/3433%20ACTA%20DE%20APERTURA.pdf'\n",
    "response = requests.get(url)\n",
    "\n",
    "with io.BytesIO(response.content) as f:\n",
    "    pdf = PdfFileReader(f)\n",
    "    information = pdf.getDocumentInfo()\n",
    "    number_of_pages = pdf.getNumPages()\n",
    "    txt = f\"\"\"\n",
    "    Author: {information.author}\n",
    "    Creator: {information.creator}\n",
    "    Producer: {information.producer}\n",
    "    Subject: {information.subject}\n",
    "    Title: {information.title}\n",
    "    Number of pages: {number_of_pages}\n",
    "    \"\"\"\n",
    "    # Here the metadata of your pdf\n",
    "    print(txt)\n",
    "    # numpage for the number page\n",
    "    numpage=0\n",
    "    page = pdf.getPage(numpage)\n",
    "    page_content = page.extractText()\n",
    "    # print the content in the page 20            \n",
    "    print(page_content)"
   ]
  },
  {
   "cell_type": "code",
   "execution_count": 9,
   "metadata": {},
   "outputs": [],
   "source": [
    "from bs4 import ResultSet"
   ]
  },
  {
   "cell_type": "code",
   "execution_count": 5,
   "metadata": {},
   "outputs": [],
   "source": [
    "response = requests.get(\"http://www.hcdvillamercedes.gob.ar/index.php/autoridades/presidencia\")\n",
    "soup = BeautifulSoup(response.text, 'html.parser')"
   ]
  },
  {
   "cell_type": "code",
   "execution_count": 50,
   "metadata": {},
   "outputs": [],
   "source": [
    "base_url = \"http://www.hcdvillamercedes.gob.ar\"\r\n",
    "response = requests.get(f\"{base_url}/index.php/autoridades/presidencia\")\r\n",
    "soup = BeautifulSoup(response.text, 'html.parser')\r\n",
    "article: ResultSet = soup.find_all(attrs={\"class\":\"article-intro clearfix\", \"itemprop\":\"articleBody\"})\r\n",
    "imagen = article[0].find(\"h1\").find(\"img\").get(\"src\")\r\n",
    "cargo = article[0].find(\"h2\").text\r\n",
    "cargo_hcd, _, periodo= list(map(str.strip, list(map(lambda x: x.text, article[0].find_all(\"p\")[:3]))))\r\n",
    "biografia = \" \".join(list(filter(None, map(lambda x: x.strip(), article[0].find(\"div\", attrs={\"class\":\"gs\"}).text.split('\\n')))))"
   ]
  },
  {
   "cell_type": "code",
   "execution_count": 51,
   "metadata": {},
   "outputs": [
    {
     "output_type": "execute_result",
     "data": {
      "text/plain": [
       "'/images/AnaVeronicaBailone.png'"
      ]
     },
     "metadata": {},
     "execution_count": 51
    }
   ],
   "source": [
    "imagen"
   ]
  },
  {
   "cell_type": "code",
   "execution_count": 52,
   "metadata": {},
   "outputs": [],
   "source": [
    "from schemas import *"
   ]
  },
  {
   "cell_type": "code",
   "execution_count": 64,
   "metadata": {},
   "outputs": [
    {
     "output_type": "execute_result",
     "data": {
      "text/plain": [
       "Carta(imagen=AnyHttpUrl('http://www.hcdvillamercedes.gob.ar/images/AnaVeronicaBailone.png', scheme='http', host='www.hcdvillamercedes.gob.ar', tld='ar', host_type='domain', path='/images/AnaVeronicaBailone.png'), cargo='\\xa0Vice-Intendenta Municipal.', cargo_hcd='Presidenta del Honorable Concejo', periodo='2019 - 2023', biografia='Nacida y criada en Villa Mercedes, proveniente de una familia de notables vecinos de la ciudad. Es abogada y escribana egresada de la Universidad Católica de Cuyo (sede San Luis, 2007 y 2008). Se posgraduó como abogada especialista en Derecho empresarial (Universidad de Belgrano, Bs As, 2007) y en Derecho penal y criminología (Universidad Maimónides, Bs As, 2012). Se\\xa0especializa en Intervenciones Sociales con Niños, Niñas, Adolescentes y Jóvenes (Universidad Nacional de San Luis, Facultad de Ciencias Económicas, Jurídicas y Sociales). En política milita en las filas del movimiento nacional y popular, y el peronismo provincial. Ha ocupado diversos cargos de Asesoría Letrada en el Ejecutivo Provincial, así como también en el Senado de la Nación. Fue candidata a Contralor Municipal de la Ciudad de Villa Mercedes por el Frente para la Victoria en las elecciones de 2015. En 2019 integró la fórmula para vice-intendente de la Ciudad de Villa Mercedes con Maximiliano Frontera, junto a la candidatura a gobernador del Dr. Alberto Rodríguez Saá.')"
      ]
     },
     "metadata": {},
     "execution_count": 64
    }
   ],
   "source": [
    "client = httpx.Client(timeout=60)\n",
    "base_url = \"http://www.hcdvillamercedes.gob.ar\"\n",
    "response = client.get(f\"{base_url}/index.php/consejales\")\n",
    "soup = BeautifulSoup(response.read(), 'html.parser')\n",
    "cards: ResultSet = "
   ]
  },
  {
   "cell_type": "code",
   "execution_count": null,
   "metadata": {},
   "outputs": [],
   "source": []
  }
 ]
}