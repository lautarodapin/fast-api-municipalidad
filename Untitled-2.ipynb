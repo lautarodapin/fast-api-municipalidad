{
 "metadata": {
  "language_info": {
   "codemirror_mode": {
    "name": "ipython",
    "version": 3
   },
   "file_extension": ".py",
   "mimetype": "text/x-python",
   "name": "python",
   "nbconvert_exporter": "python",
   "pygments_lexer": "ipython3",
   "version": "3.8.4"
  },
  "orig_nbformat": 2,
  "kernelspec": {
   "name": "python384jvsc74a57bd0ad75465fea0e5785f1251e12c1fb567059335af60a73de595ba7384121b84db8",
   "display_name": "Python 3.8.4  ('venv': venv)",
   "language": "python"
  }
 },
 "nbformat": 4,
 "nbformat_minor": 2,
 "cells": [
  {
   "cell_type": "code",
   "execution_count": 1,
   "metadata": {},
   "outputs": [
    {
     "output_type": "stream",
     "name": "stdout",
     "text": [
      "\n    Author: Oracle Reports\n    Creator: Oracle10gR2 AS Reports Services\n    Producer: Oracle PDF driver\n    Subject: None\n    Title: RC1C2220.RDF\n    Number of pages: 3\n    \nACTA DE APERTURA DE COTIZACIONESSISTEMA DE COMPRAS ON - LINESOLICITUD DE COTIZACION - EXPEDIENTE 2020-S-003433En la ciudad de Villa Mercedes, Provincia de San Luis a los 06 días de mayo      de 2021 , siendo las 08:00, hora fijada para la apertura DEL PEDIDO DE COTIZACIÓN del expediente de referencia - SISTEMA DE COMPRAS ON - LINE - el que fuera formulado para LLAMADO LICIT. ONLINE SERV. DE TRES (3) CAMIONES REGADORES.1 -  con domicilio en  nro: dpto: piso: ciudad: de la provincia de  , SE PRESENTARON LOS SIGUIENTES OFERENTES:PLANILLA COMPARATIVA DEL SISTEMA DE COMPRAS ON - LINE: DE LAS PROPUESTAS PRESENTADASSe adjunta a continuación la planilla comparativaSiendo las 08:00 se da por terminado este acto.                                                                                                                                                                                                                                          Firma y SelloJefe del Programa de Compras y SuministrosMunicipalidad de Villa MercedesOFERENTE Nº 1: La firma DUPLESSIS ARMANDO OMAR con domicilio en suipacha ext sur          nro:165 dpto: piso: ciudad:mercedes        de la provincia de san luis, CUIT  20-12828561-0OFERENTE Nº 2: La firma ARIAS, DIEGO OSCAR con domicilio en pringles nro:560 dpto: piso: ciudad:mercedes de la provincia de san luis, CUIT  23-11727448-9\n"
     ]
    }
   ],
   "source": [
    "from PyPDF2 import PdfFileReader\n",
    "import requests\n",
    "import io\n",
    "import httpx\n",
    "from bs4 import BeautifulSoup\n",
    "\n",
    "url='https://www.villamercedes.gov.ar/attachments/article/939/3433%20ACTA%20DE%20APERTURA.pdf'\n",
    "response = requests.get(url)\n",
    "\n",
    "with io.BytesIO(response.content) as f:\n",
    "    pdf = PdfFileReader(f)\n",
    "    information = pdf.getDocumentInfo()\n",
    "    number_of_pages = pdf.getNumPages()\n",
    "    txt = f\"\"\"\n",
    "    Author: {information.author}\n",
    "    Creator: {information.creator}\n",
    "    Producer: {information.producer}\n",
    "    Subject: {information.subject}\n",
    "    Title: {information.title}\n",
    "    Number of pages: {number_of_pages}\n",
    "    \"\"\"\n",
    "    # Here the metadata of your pdf\n",
    "    print(txt)\n",
    "    # numpage for the number page\n",
    "    numpage=0\n",
    "    page = pdf.getPage(numpage)\n",
    "    page_content = page.extractText()\n",
    "    # print the content in the page 20            \n",
    "    print(page_content)"
   ]
  },
  {
   "cell_type": "code",
   "execution_count": 9,
   "metadata": {},
   "outputs": [],
   "source": [
    "from bs4 import ResultSet"
   ]
  },
  {
   "cell_type": "code",
   "execution_count": 5,
   "metadata": {},
   "outputs": [],
   "source": [
    "response = requests.get(\"http://www.hcdvillamercedes.gob.ar/index.php/autoridades/presidencia\")\n",
    "soup = BeautifulSoup(response.text, 'html.parser')"
   ]
  },
  {
   "cell_type": "code",
   "execution_count": 50,
   "metadata": {},
   "outputs": [],
   "source": [
    "base_url = \"http://www.hcdvillamercedes.gob.ar\"\r\n",
    "response = requests.get(f\"{base_url}/index.php/autoridades/presidencia\")\r\n",
    "soup = BeautifulSoup(response.text, 'html.parser')\r\n",
    "article: ResultSet = soup.find_all(attrs={\"class\":\"article-intro clearfix\", \"itemprop\":\"articleBody\"})\r\n",
    "imagen = article[0].find(\"h1\").find(\"img\").get(\"src\")\r\n",
    "cargo = article[0].find(\"h2\").text\r\n",
    "cargo_hcd, _, periodo= list(map(str.strip, list(map(lambda x: x.text, article[0].find_all(\"p\")[:3]))))\r\n",
    "biografia = \" \".join(list(filter(None, map(lambda x: x.strip(), article[0].find(\"div\", attrs={\"class\":\"gs\"}).text.split('\\n')))))"
   ]
  },
  {
   "cell_type": "code",
   "execution_count": 51,
   "metadata": {},
   "outputs": [
    {
     "output_type": "execute_result",
     "data": {
      "text/plain": [
       "'/images/AnaVeronicaBailone.png'"
      ]
     },
     "metadata": {},
     "execution_count": 51
    }
   ],
   "source": [
    "imagen"
   ]
  },
  {
   "cell_type": "code",
   "execution_count": 113,
   "metadata": {},
   "outputs": [],
   "source": [
    "from schemas import *\n",
    "import re"
   ]
  },
  {
   "cell_type": "code",
   "execution_count": 124,
   "metadata": {},
   "outputs": [],
   "source": [
    "# client = requests.(timeout=60)\n",
    "base_url = \"http://www.hcdvillamercedes.gob.ar\"\n",
    "response = requests.get(f\"{base_url}/index.php/orden-del-dia?limit=1&start=1\")\n",
    "soup = BeautifulSoup(response.text, 'html.parser')\n"
   ]
  },
  {
   "cell_type": "code",
   "execution_count": 145,
   "metadata": {},
   "outputs": [
    {
     "output_type": "execute_result",
     "data": {
      "text/plain": [
       "('/images/71022727_2532767193618977_3290287635586613248_n.jpg',\n",
       " 'CIRCULAR Nº 1459',\n",
       " 'De mi consideración:En mi carácter de Presidente del Honorable Concejo Deliberante, en uso de las facultades que se me ha conferido por Carta Orgánica Municipal y el Reglamento Interno, tengo el agrado de dirigirme a Usted, a los efectos de invitarlo a la Sesión Ordinaria que se llevará a cabo el día 03 de diciembre del corriente año, a las 10:00 horas, en la Sala de Sesiones de este Cuerpo.\\nCorresponde Izar y Arriar la Bandera Nacional a la Sra. Concejal Mónica Beatriz Barroso.\\n1.- CONSIDERACIÓN DE ACTAS:\\nConsideración del Acta N° 1449 (Sesión Ordinaria 26-11-2019).\\n2.- ASUNTOS ENTRADOS:\\nExpte. Nº 19178-c/19- Bloque Cambiemos- Proyecto de Comunicación- Ref. a: Solicitar al Departamento Ejecutivo Municipal, estudio de factibilidad para la instalación de un reductor de velocidad sobre calle Asia, entre calles Montevideo y General Paunero.Expte. Nº 19179-c/19- Bloque Mercedinos por el Cambio- Proyecto de Comunicación- Ref. a: Requerir al Departamento Ejecutivo Municipal, disponga medidas, acciones y controles para evitar que los denominados “Puntos Verdes”, existentes en distintos lugares de la ciudad, generen riesgo e inconvenientes a los vecinos.Expte. Nº 19180-c/19- Bloque Mercedinos por el Cambio- Proyecto de Comunicación- Ref. a: Solicitar al Departamento Ejecutivo Municipal, estudio de factibilidad para el mejoramiento del sistema de iluminación en el sector lindante norte del Club San Martin.Expte. Nº 19181-c/19- Bloque Cambiemos- Proyecto de Comunicación- Ref. a: Requerir al Departamento Ejecutivo Municipal, estudio de factibilidad para la demarcación de veredas, cordones y pavimento en tramos de calles La Fortuna y Corrientes.Expte. Nº 19182-o/19- Bloque Cambiemos- Proyecto de Ordenanza- Ref. a: Cuidado integral de la población animal y tenencia responsable de mascotas.Expte. Nº 19183-d/19- Bl. Frente Unidad Justicialista- Proyecto de Declaración- Ref. a: Declarar de Interés Legislativo el 10º Aniversario del Club Deportivo La Ribera, conmemorado al 27 de noviembre del corriente año.Expte. Nº 19184-d/19- Bl. Frente Unidad Justicialista- Proyecto de Declaración- Ref. a: Reconocer y Distinguir al Sr. Juan Felipe García Martín, Campeón Argentino y Latinoamericano de la categoría 65 cc. de motocross.\\n3.- DESPACHOS DE COMISIONES:INTERPRETACIÓN Y ASUNTOS LEGALES:\\nExpte. Nº 19033-o/19- Departamento Ejecutivo Municipal- Expte. Interno Nº 9418-2018- Proyecto de Ordenanza- Ref. a: Autorizar al Departamento Ejecutivo Municipal a celebrar convenio de adjudicación de inmueble sometido a condición resolutoria, a favor de “Alberdi Club”, con destino a la construcción de espacio deportivo y recreativo.\\nACCIÓN SOCIAL CULTURA Y EDUCACIÓN – INT. Y ASUNTOS LEGALES:\\nExpte. N° 16878-o/16- Proyecto de Ordenanza- Ref. a: Creación de la figura del Instructor de Educación Física para el control de actividades deportivas en plazas y paseos públicos.(Archivo)Expte. Nº 19164-h/19- Departamento Ejecutivo Municipal- Expte. Interno Nº 12203-2019- Ref. a: Solicitar la Homologación del Decreto Municipal Nº 2422/2005 de creación del Consejo Municipal de Adultos Mayores.\\nACCIÓN SOCIAL CULTURA Y EDUCACIÓN:\\nExpte. Nº 19166-o/19- Proyecto de Ordenanza- Ref. a: Creación de la Comisión Permanente de Desarrollo Cultural e Histórico del Cementerio Municipal San José.\\nTRÁNSITO Y TRANSPORTE:\\nExpte. Nº 19007-o/19- Proyecto de Ordenanza- Ref. a: Disposiciones de estacionamiento vehicular sobre calle Bélgica.Expte. Nº 19118-n/19- Nota Nº 31/19- Ref. a: Asociación Civil “Si a la Vida”, solicita la modificación de considerandos y Art. 4º) de la Ordenanza Nº 968-TyT/O/2019.\\nTRABAJO Y PRODUCCIÓN:\\nExpte. Nº 18650-n/18- Nota Nº 42/2018- Ref. a: Sr. Marcos Raúl Ramírez, solicita reunión con los miembros del Honorable Concejo Deliberante, a efectos de presentar una iniciática para dar solución laboral a un número importante de conciudadanos. (Archivo)')"
      ]
     },
     "metadata": {},
     "execution_count": 145
    }
   ],
   "source": [
    "article = soup.find(\"article\")\n",
    "header = article.find(\"header\")\n",
    "dia, mes = re.compile(r'\\w+ \\w+ \\w+ \\w+ (\\d{1,2}) \\w+ (\\w+)').search(header.text).groups()\n",
    "url = header.find(\"a\").get(\"href\")\n",
    "section = article.find(\"section\")\n",
    "parrafos = section.find_all(\"p\")\n",
    "img = parrafos[0].find('img').get(\"src\")\n",
    "codigo = parrafos[1].text.strip()\n",
    "texto = \"\\n\".join(list(map(lambda x: x.text.strip(), parrafos[2:])))\n",
    "img, codigo, texto"
   ]
  },
  {
   "cell_type": "code",
   "execution_count": 141,
   "metadata": {},
   "outputs": [
    {
     "output_type": "execute_result",
     "data": {
      "text/plain": [
       "<p>Corresponde Izar y Arriar la Bandera Nacional a la Sra. Concejal Mónica Beatriz Barroso.</p>"
      ]
     },
     "metadata": {},
     "execution_count": 141
    }
   ],
   "source": [
    "parrafos[3]"
   ]
  },
  {
   "cell_type": "code",
   "execution_count": 162,
   "metadata": {},
   "outputs": [],
   "source": [
    "a = re.compile(r'/index\\.php/orden-del-dia/(\\d{1,4})+').search(url).groups()"
   ]
  },
  {
   "cell_type": "code",
   "execution_count": null,
   "metadata": {},
   "outputs": [],
   "source": []
  }
 ]
}